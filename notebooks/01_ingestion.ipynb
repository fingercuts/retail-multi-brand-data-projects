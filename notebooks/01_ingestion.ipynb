{
  "nbformat": 4,
  "nbformat_minor": 0,
  "metadata": {
    "colab": {
      "provenance": []
    },
    "kernelspec": {
      "name": "python3",
      "display_name": "Python 3"
    },
    "language_info": {
      "name": "python"
    },
    "widgets": {
      "application/vnd.jupyter.widget-state+json": {
        "e2ab430d48d94ff096e2fbb8fb5bf26c": {
          "model_module": "@jupyter-widgets/controls",
          "model_name": "FloatProgressModel",
          "model_module_version": "1.5.0",
          "state": {
            "_dom_classes": [],
            "_model_module": "@jupyter-widgets/controls",
            "_model_module_version": "1.5.0",
            "_model_name": "FloatProgressModel",
            "_view_count": null,
            "_view_module": "@jupyter-widgets/controls",
            "_view_module_version": "1.5.0",
            "_view_name": "ProgressView",
            "bar_style": "",
            "description": "",
            "description_tooltip": null,
            "layout": "IPY_MODEL_e2ab9857306143a6b1968a0b271c2402",
            "max": 100,
            "min": 0,
            "orientation": "horizontal",
            "style": "IPY_MODEL_ec70406602f946fbbf918565ef30a0a4",
            "value": 100
          }
        },
        "e2ab9857306143a6b1968a0b271c2402": {
          "model_module": "@jupyter-widgets/base",
          "model_name": "LayoutModel",
          "model_module_version": "1.2.0",
          "state": {
            "_model_module": "@jupyter-widgets/base",
            "_model_module_version": "1.2.0",
            "_model_name": "LayoutModel",
            "_view_count": null,
            "_view_module": "@jupyter-widgets/base",
            "_view_module_version": "1.2.0",
            "_view_name": "LayoutView",
            "align_content": null,
            "align_items": null,
            "align_self": null,
            "border": null,
            "bottom": null,
            "display": null,
            "flex": null,
            "flex_flow": null,
            "grid_area": null,
            "grid_auto_columns": null,
            "grid_auto_flow": null,
            "grid_auto_rows": null,
            "grid_column": null,
            "grid_gap": null,
            "grid_row": null,
            "grid_template_areas": null,
            "grid_template_columns": null,
            "grid_template_rows": null,
            "height": null,
            "justify_content": null,
            "justify_items": null,
            "left": null,
            "margin": null,
            "max_height": null,
            "max_width": null,
            "min_height": null,
            "min_width": null,
            "object_fit": null,
            "object_position": null,
            "order": null,
            "overflow": null,
            "overflow_x": null,
            "overflow_y": null,
            "padding": null,
            "right": null,
            "top": null,
            "visibility": null,
            "width": "auto"
          }
        },
        "ec70406602f946fbbf918565ef30a0a4": {
          "model_module": "@jupyter-widgets/controls",
          "model_name": "ProgressStyleModel",
          "model_module_version": "1.5.0",
          "state": {
            "_model_module": "@jupyter-widgets/controls",
            "_model_module_version": "1.5.0",
            "_model_name": "ProgressStyleModel",
            "_view_count": null,
            "_view_module": "@jupyter-widgets/base",
            "_view_module_version": "1.2.0",
            "_view_name": "StyleView",
            "bar_color": "black",
            "description_width": ""
          }
        },
        "d84d3de806194e3780fa4e74dc4a5625": {
          "model_module": "@jupyter-widgets/controls",
          "model_name": "FloatProgressModel",
          "model_module_version": "1.5.0",
          "state": {
            "_dom_classes": [],
            "_model_module": "@jupyter-widgets/controls",
            "_model_module_version": "1.5.0",
            "_model_name": "FloatProgressModel",
            "_view_count": null,
            "_view_module": "@jupyter-widgets/controls",
            "_view_module_version": "1.5.0",
            "_view_name": "ProgressView",
            "bar_style": "",
            "description": "",
            "description_tooltip": null,
            "layout": "IPY_MODEL_155cd094232f4c1aace6f8e980c38675",
            "max": 100,
            "min": 0,
            "orientation": "horizontal",
            "style": "IPY_MODEL_f42c60503eaf4e09a73bb0a5f5f0787c",
            "value": 100
          }
        },
        "155cd094232f4c1aace6f8e980c38675": {
          "model_module": "@jupyter-widgets/base",
          "model_name": "LayoutModel",
          "model_module_version": "1.2.0",
          "state": {
            "_model_module": "@jupyter-widgets/base",
            "_model_module_version": "1.2.0",
            "_model_name": "LayoutModel",
            "_view_count": null,
            "_view_module": "@jupyter-widgets/base",
            "_view_module_version": "1.2.0",
            "_view_name": "LayoutView",
            "align_content": null,
            "align_items": null,
            "align_self": null,
            "border": null,
            "bottom": null,
            "display": null,
            "flex": null,
            "flex_flow": null,
            "grid_area": null,
            "grid_auto_columns": null,
            "grid_auto_flow": null,
            "grid_auto_rows": null,
            "grid_column": null,
            "grid_gap": null,
            "grid_row": null,
            "grid_template_areas": null,
            "grid_template_columns": null,
            "grid_template_rows": null,
            "height": null,
            "justify_content": null,
            "justify_items": null,
            "left": null,
            "margin": null,
            "max_height": null,
            "max_width": null,
            "min_height": null,
            "min_width": null,
            "object_fit": null,
            "object_position": null,
            "order": null,
            "overflow": null,
            "overflow_x": null,
            "overflow_y": null,
            "padding": null,
            "right": null,
            "top": null,
            "visibility": null,
            "width": "auto"
          }
        },
        "f42c60503eaf4e09a73bb0a5f5f0787c": {
          "model_module": "@jupyter-widgets/controls",
          "model_name": "ProgressStyleModel",
          "model_module_version": "1.5.0",
          "state": {
            "_model_module": "@jupyter-widgets/controls",
            "_model_module_version": "1.5.0",
            "_model_name": "ProgressStyleModel",
            "_view_count": null,
            "_view_module": "@jupyter-widgets/base",
            "_view_module_version": "1.2.0",
            "_view_name": "StyleView",
            "bar_color": "black",
            "description_width": ""
          }
        }
      }
    }
  },
  "cells": [
    {
      "cell_type": "markdown",
      "source": [
        "# 01 - Data Ingestion Pipeline\n",
        "\n",
        "This notebook demonstrates the ingestion pipeline for the **Retail Multi-Brand Data Project**.  \n",
        "We ingest raw CSV extracts (provided as a zipped dataset) into **DuckDB**, and export them into **Parquet** format for efficient downstream analytics.\n",
        "\n",
        "**Steps in this notebook:**\n",
        "1. Setup environment & paths  \n",
        "2. Mount data source  \n",
        "3. Extract raw CSV files  \n",
        "4. Load CSVs into **DuckDB tables**  \n",
        "5. Export tables into **Parquet (staging layer)**  \n",
        "6. Verify row counts & samples  "
      ],
      "metadata": {
        "id": "OSJPdQRuZBV9"
      }
    },
    {
      "cell_type": "code",
      "source": [
        "# ==========================\n",
        "# STEP 0: Install libraries\n",
        "# ==========================\n",
        "!pip install duckdb pandas pyarrow\n",
        "\n",
        "# ==========================\n",
        "# STEP 1: Mount Google Drive\n",
        "# ==========================\n",
        "from google.colab import drive\n",
        "drive.mount('/content/drive')\n",
        "\n",
        "import os, zipfile, duckdb\n",
        "\n",
        "# ==========================\n",
        "# STEP 2: Define Paths\n",
        "# ==========================\n",
        "ZIP_PATH = '/content/drive/My Drive/Dataset/Retail Multi-Brand Datasets.zip'\n",
        "EXTRACT_DIR = '/content/drive/My Drive/Dataset/Retail_Multibrand_extracted'\n",
        "DUCKDB_PATH = '/content/drive/My Drive/Dataset/Retail_Multibrand_extracted/multibrand_retail.duckdb'\n",
        "EXPORT_DIR = '/content/drive/My Drive/Dataset/Retail_Multibrand_extracted/Parquet'\n",
        "\n",
        "# ==========================\n",
        "# STEP 3: Extract ZIP\n",
        "# ==========================\n",
        "if not os.path.exists(EXTRACT_DIR):\n",
        "    os.makedirs(EXTRACT_DIR)\n",
        "\n",
        "with zipfile.ZipFile(ZIP_PATH, 'r') as z:\n",
        "    z.extractall(EXTRACT_DIR)\n",
        "\n",
        "print(\"Extracted files:\", os.listdir(EXTRACT_DIR))\n",
        "\n",
        "# ==========================\n",
        "# STEP 4: Load into DuckDB\n",
        "# ==========================\n",
        "con = duckdb.connect(DUCKDB_PATH)\n",
        "\n",
        "file_map = {\n",
        "    \"brands.csv\": \"brands\",\n",
        "    \"customers.csv\": \"customers\",\n",
        "    \"final_inventory.csv\": \"inventory\",\n",
        "    \"online_channels.csv\": \"channels\",\n",
        "    \"products.csv\": \"products\",\n",
        "    \"promotions.csv\": \"promotions\",\n",
        "    \"sales_transactions_simulated.csv\": \"sales\",\n",
        "    \"stores_enhanced.csv\": \"stores\"\n",
        "}\n",
        "\n",
        "for fname, tname in file_map.items():\n",
        "    fpath = os.path.join(EXTRACT_DIR, fname)\n",
        "    print(f\"Loading {fname} -> {tname}\")\n",
        "    con.execute(f\"CREATE OR REPLACE TABLE {tname} AS SELECT * FROM read_csv_auto('{fpath}')\")\n",
        "    cnt = con.execute(f\"SELECT COUNT(*) FROM {tname}\").fetchone()[0]\n",
        "    print(f\" -> {tname}: {cnt} rows\")\n",
        "\n",
        "# ==========================\n",
        "# STEP 5: Export to Parquet\n",
        "# ==========================\n",
        "if not os.path.exists(EXPORT_DIR):\n",
        "    os.makedirs(EXPORT_DIR)\n",
        "\n",
        "for fname, tname in file_map.items():\n",
        "    out_path = os.path.join(EXPORT_DIR, f\"{tname}.parquet\")\n",
        "    print(f\"Exporting {tname} -> {out_path}\")\n",
        "    con.execute(f\"COPY {tname} TO '{out_path}' (FORMAT PARQUET)\")\n",
        "\n",
        "# ==========================\n",
        "# STEP 6: Verification\n",
        "# ==========================\n",
        "print(\"\\nTables in DuckDB:\")\n",
        "print(con.execute(\"SHOW TABLES\").fetchdf())\n",
        "\n",
        "print(\"\\nSample from sales:\")\n",
        "print(con.execute(\"SELECT * FROM sales LIMIT 5\").fetchdf())\n",
        "\n",
        "print(\"\\nParquet files created:\", os.listdir(EXPORT_DIR))\n",
        "\n",
        "con.close()\n"
      ],
      "metadata": {
        "colab": {
          "base_uri": "https://localhost:8080/",
          "height": 1000,
          "referenced_widgets": [
            "e2ab430d48d94ff096e2fbb8fb5bf26c",
            "e2ab9857306143a6b1968a0b271c2402",
            "ec70406602f946fbbf918565ef30a0a4",
            "d84d3de806194e3780fa4e74dc4a5625",
            "155cd094232f4c1aace6f8e980c38675",
            "f42c60503eaf4e09a73bb0a5f5f0787c"
          ]
        },
        "id": "H0FxJIqBJjMQ",
        "outputId": "0506f510-9d6f-422a-91ee-a1c2709dd0cf"
      },
      "execution_count": 4,
      "outputs": [
        {
          "output_type": "stream",
          "name": "stdout",
          "text": [
            "Requirement already satisfied: duckdb in /usr/local/lib/python3.12/dist-packages (1.3.2)\n",
            "Requirement already satisfied: pandas in /usr/local/lib/python3.12/dist-packages (2.2.2)\n",
            "Requirement already satisfied: pyarrow in /usr/local/lib/python3.12/dist-packages (18.1.0)\n",
            "Requirement already satisfied: numpy>=1.26.0 in /usr/local/lib/python3.12/dist-packages (from pandas) (2.0.2)\n",
            "Requirement already satisfied: python-dateutil>=2.8.2 in /usr/local/lib/python3.12/dist-packages (from pandas) (2.9.0.post0)\n",
            "Requirement already satisfied: pytz>=2020.1 in /usr/local/lib/python3.12/dist-packages (from pandas) (2025.2)\n",
            "Requirement already satisfied: tzdata>=2022.7 in /usr/local/lib/python3.12/dist-packages (from pandas) (2025.2)\n",
            "Requirement already satisfied: six>=1.5 in /usr/local/lib/python3.12/dist-packages (from python-dateutil>=2.8.2->pandas) (1.17.0)\n",
            "Mounted at /content/drive\n",
            "Extracted files: ['customers.csv', 'brands.csv', 'products.csv', 'stores_enhanced.csv', 'online_channels.csv', 'promotions.csv', 'sales_transactions_simulated.csv', 'final_inventory.csv']\n",
            "Loading brands.csv -> brands\n",
            " -> brands: 123 rows\n",
            "Loading customers.csv -> customers\n",
            " -> customers: 112473 rows\n",
            "Loading final_inventory.csv -> inventory\n",
            " -> inventory: 3507 rows\n",
            "Loading online_channels.csv -> channels\n",
            " -> channels: 4 rows\n",
            "Loading products.csv -> products\n",
            " -> products: 645 rows\n",
            "Loading promotions.csv -> promotions\n",
            " -> promotions: 296 rows\n",
            "Loading sales_transactions_simulated.csv -> sales\n"
          ]
        },
        {
          "output_type": "display_data",
          "data": {
            "text/plain": [
              "FloatProgress(value=0.0, layout=Layout(width='auto'), style=ProgressStyle(bar_color='black'))"
            ],
            "application/vnd.jupyter.widget-view+json": {
              "version_major": 2,
              "version_minor": 0,
              "model_id": "e2ab430d48d94ff096e2fbb8fb5bf26c"
            }
          },
          "metadata": {}
        },
        {
          "output_type": "stream",
          "name": "stdout",
          "text": [
            " -> sales: 4852414 rows\n",
            "Loading stores_enhanced.csv -> stores\n",
            " -> stores: 663 rows\n",
            "Exporting brands -> /content/drive/My Drive/Dataset/Retail_Multibrand_extracted/Parquet/brands.parquet\n",
            "Exporting customers -> /content/drive/My Drive/Dataset/Retail_Multibrand_extracted/Parquet/customers.parquet\n",
            "Exporting inventory -> /content/drive/My Drive/Dataset/Retail_Multibrand_extracted/Parquet/inventory.parquet\n",
            "Exporting channels -> /content/drive/My Drive/Dataset/Retail_Multibrand_extracted/Parquet/channels.parquet\n",
            "Exporting products -> /content/drive/My Drive/Dataset/Retail_Multibrand_extracted/Parquet/products.parquet\n",
            "Exporting promotions -> /content/drive/My Drive/Dataset/Retail_Multibrand_extracted/Parquet/promotions.parquet\n",
            "Exporting sales -> /content/drive/My Drive/Dataset/Retail_Multibrand_extracted/Parquet/sales.parquet\n"
          ]
        },
        {
          "output_type": "display_data",
          "data": {
            "text/plain": [
              "FloatProgress(value=0.0, layout=Layout(width='auto'), style=ProgressStyle(bar_color='black'))"
            ],
            "application/vnd.jupyter.widget-view+json": {
              "version_major": 2,
              "version_minor": 0,
              "model_id": "d84d3de806194e3780fa4e74dc4a5625"
            }
          },
          "metadata": {}
        },
        {
          "output_type": "stream",
          "name": "stdout",
          "text": [
            "Exporting stores -> /content/drive/My Drive/Dataset/Retail_Multibrand_extracted/Parquet/stores.parquet\n",
            "\n",
            "Tables in DuckDB:\n",
            "         name\n",
            "0      brands\n",
            "1    channels\n",
            "2   customers\n",
            "3   inventory\n",
            "4    products\n",
            "5  promotions\n",
            "6       sales\n",
            "7      stores\n",
            "\n",
            "Sample from sales:\n",
            "                  date  store_id  product_id  units_sold subsidiary_company  \\\n",
            "0  2021-01-01 00:00:00  STR-0002  PROD-00002           1          Gourmetia   \n",
            "1  2021-01-01 00:00:00  STR-0002  PROD-00003           3          Gourmetia   \n",
            "2  2021-01-01 00:00:00  STR-0002  PROD-00004           0          Gourmetia   \n",
            "3  2021-01-01 00:00:00  STR-0002  PROD-00005           2          Gourmetia   \n",
            "4  2021-01-01 00:00:00  STR-0002  PROD-00006           2          Gourmetia   \n",
            "\n",
            "   total_amount promotion_id  discounted_amount customer_id  \n",
            "0       50000.0         None                0.0  CUST-71671  \n",
            "1      138000.0         None                0.0  CUST-13598  \n",
            "2      195000.0         None                0.0  CUST-40071  \n",
            "3       94000.0         None                0.0  CUST-17928  \n",
            "4           0.0         None                0.0  CUST-13697  \n",
            "\n",
            "Parquet files created: ['brands.parquet', 'customers.parquet', 'inventory.parquet', 'channels.parquet', 'products.parquet', 'promotions.parquet', 'sales.parquet', 'stores.parquet']\n"
          ]
        }
      ]
    }
  ]
}